{
 "cells": [
  {
   "cell_type": "code",
   "execution_count": 3,
   "id": "2014c70b-83f8-4fc1-84c3-b0a23ffa14f0",
   "metadata": {
    "execution": {
     "iopub.execute_input": "2022-06-28T14:15:44.179113Z",
     "iopub.status.busy": "2022-06-28T14:15:44.178365Z",
     "iopub.status.idle": "2022-06-28T14:15:44.741917Z",
     "shell.execute_reply": "2022-06-28T14:15:44.741158Z",
     "shell.execute_reply.started": "2022-06-28T14:15:44.179051Z"
    },
    "tags": []
   },
   "outputs": [
    {
     "data": {
      "text/plain": [
       "60373"
      ]
     },
     "execution_count": 3,
     "metadata": {},
     "output_type": "execute_result"
    }
   ],
   "source": [
    "import os\n",
    "import os.path\n",
    "authors = [\n",
    "    \"Topsoee\", \"JacobsenJP\", \"SkramE\", \"SkramA\", \"AndersenHC\",\n",
    "    \"Bauditz\", \"Bang\", \"Kielland\", \"Schandorph\", \"Drachman\",\n",
    "    \"Hamsun\", \"HansenJH\", \"Pontoppidan\", \"GB\",\n",
    "    \"Levison\", \"Fibiger\"\n",
    "    ]\n",
    "paths = [os.path.join(\"korpus\", filename) for filename in os.listdir(\"korpus\")\n",
    "         if filename.endswith(\".txt\") and\n",
    "         any(((\"_\" + author + \"_\") in filename) for author in authors)]\n",
    "len(paths)\n",
    "\n",
    "def split(list_a, chunk_size):\n",
    "    for i in range(0, len(list_a), chunk_size):\n",
    "        yield list_a[i:i + chunk_size]\n",
    "        \n",
    "docs = []\n",
    "for path in paths:\n",
    "    with open(path, encoding=\"utf-8\") as f:  # 75 token chunks\n",
    "        docs += split(f.read().split(), 75)\n",
    "docs[:3]\n",
    "len(docs)"
   ]
  },
  {
   "cell_type": "code",
   "execution_count": 6,
   "id": "d730c5d6-84b8-4c89-b910-41ae11d86a53",
   "metadata": {
    "execution": {
     "iopub.execute_input": "2022-06-28T14:20:17.118805Z",
     "iopub.status.busy": "2022-06-28T14:20:17.118084Z",
     "iopub.status.idle": "2022-06-28T14:20:22.679929Z",
     "shell.execute_reply": "2022-06-28T14:20:22.678372Z",
     "shell.execute_reply.started": "2022-06-28T14:20:17.118747Z"
    },
    "tags": []
   },
   "outputs": [],
   "source": [
    "!mkdir -p wsd/test-da\n",
    "from xml.sax.saxutils import escape\n",
    "with open(\"wsd/test-da/test-da.data.xml\", \"w\", encoding=\"utf-8\") as f, open(\"wsd/test-da/test-da.gold.key.txt\", \"w\", encoding=\"utf-8\") as g:\n",
    "    print('<?xml version=\"1.0\" encoding=\"UTF-8\"?>', file=f)\n",
    "    print('<corpus lang=\"da\" name=\"test-da\" sources=\"wordnet-danish\">', file=f)\n",
    "    print('   <text id=\"d000\">', file=f)\n",
    "    for i, doc in enumerate(docs):\n",
    "        print('      <sentence id=\"s{:03d}\" source=\"wordnet-danish\">'.format(i), file=f)\n",
    "        for token in doc:\n",
    "            if token == \"skæbne\":\n",
    "                print('         <instance id=\"s{:03d}.t000\">{}</instance>'.format(i), file=f)\n",
    "                print('s{:03d}.t000 bn:00026603n', file=g)\n",
    "            else:\n",
    "                print('         <wf>{}</wf>'.format(escape(token)), file=f)\n",
    "        print('      </sentence>', file=f)\n",
    "    print('    </text>', file=f)\n",
    "    print('</corpus', file=f)"
   ]
  },
  {
   "cell_type": "code",
   "execution_count": null,
   "id": "36f85aea-61ea-4bc6-886e-fe87a2d73019",
   "metadata": {},
   "outputs": [],
   "source": []
  }
 ],
 "metadata": {
  "kernelspec": {
   "display_name": "Python 3 ",
   "language": "python",
   "name": "python3"
  },
  "language_info": {
   "codemirror_mode": {
    "name": "ipython",
    "version": 3
   },
   "file_extension": ".py",
   "mimetype": "text/x-python",
   "name": "python",
   "nbconvert_exporter": "python",
   "pygments_lexer": "ipython3",
   "version": "3.9.10"
  }
 },
 "nbformat": 4,
 "nbformat_minor": 5
}
