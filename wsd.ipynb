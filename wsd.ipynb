{
 "cells": [
  {
   "cell_type": "code",
   "execution_count": 3,
   "id": "2014c70b-83f8-4fc1-84c3-b0a23ffa14f0",
   "metadata": {
    "execution": {
     "iopub.execute_input": "2022-06-28T14:15:44.179113Z",
     "iopub.status.busy": "2022-06-28T14:15:44.178365Z",
     "iopub.status.idle": "2022-06-28T14:15:44.741917Z",
     "shell.execute_reply": "2022-06-28T14:15:44.741158Z",
     "shell.execute_reply.started": "2022-06-28T14:15:44.179051Z"
    },
    "tags": []
   },
   "outputs": [
    {
     "data": {
      "text/plain": [
       "60373"
      ]
     },
     "execution_count": 3,
     "metadata": {},
     "output_type": "execute_result"
    }
   ],
   "source": [
    "import os\n",
    "import os.path\n",
    "authors = [\n",
    "    \"Topsoee\", \"JacobsenJP\", \"SkramE\", \"SkramA\", \"AndersenHC\",\n",
    "    \"Bauditz\", \"Bang\", \"Kielland\", \"Schandorph\", \"Drachman\",\n",
    "    \"Hamsun\", \"HansenJH\", \"Pontoppidan\", \"GB\",\n",
    "    \"Levison\", \"Fibiger\"\n",
    "    ]\n",
    "paths = [os.path.join(\"korpus\", filename) for filename in os.listdir(\"korpus\")\n",
    "         if filename.endswith(\".txt\") and\n",
    "         any(((\"_\" + author + \"_\") in filename) for author in authors)]\n",
    "len(paths)\n",
    "\n",
    "def split(list_a, chunk_size):\n",
    "    for i in range(0, len(list_a), chunk_size):\n",
    "        yield list_a[i:i + chunk_size]\n",
    "        \n",
    "docs = []\n",
    "for path in paths:\n",
    "    with open(path, encoding=\"utf-8\") as f:  # 75 token chunks\n",
    "        docs += split(f.read().split(), 75)\n",
    "docs[:3]\n",
    "len(docs)"
   ]
  },
  {
   "cell_type": "code",
   "execution_count": 7,
   "id": "d730c5d6-84b8-4c89-b910-41ae11d86a53",
   "metadata": {
    "execution": {
     "iopub.execute_input": "2022-06-28T14:34:35.146980Z",
     "iopub.status.busy": "2022-06-28T14:34:35.145222Z",
     "iopub.status.idle": "2022-06-28T14:34:39.607148Z",
     "shell.execute_reply": "2022-06-28T14:34:39.605046Z",
     "shell.execute_reply.started": "2022-06-28T14:34:35.146902Z"
    },
    "tags": []
   },
   "outputs": [],
   "source": [
    "!mkdir -p wsd/test-da\n",
    "from xml.sax.saxutils import escape\n",
    "with open(\"wsd/test-da/test-da.data.xml\", \"w\", encoding=\"utf-8\") as f, open(\"wsd/test-da/test-da.gold.key.txt\", \"w\", encoding=\"utf-8\") as g:\n",
    "    print('<?xml version=\"1.0\" encoding=\"UTF-8\"?>', file=f)\n",
    "    print('<corpus lang=\"da\" name=\"test-da\" sources=\"wordnet-danish\">', file=f)\n",
    "    print('   <text id=\"d000\">', file=f)\n",
    "    for i, doc in enumerate(docs):\n",
    "        print('      <sentence id=\"s{:03d}\" source=\"wordnet-danish\">'.format(i), file=f)\n",
    "        for token in doc:\n",
    "            if token == \"skæbne\":\n",
    "                print('         <instance id=\"s{:03d}.t000\">{}</instance>'.format(i), file=f)\n",
    "                print('s{:03d}.t000 bn:00026603n', file=g)\n",
    "            else:\n",
    "                print('         <wf>{}</wf>'.format(escape(token)), file=f)\n",
    "        print('      </sentence>', file=f)\n",
    "    print('    </text>', file=f)\n",
    "    print('</corpus>', file=f)"
   ]
  },
  {
   "cell_type": "code",
   "execution_count": 31,
   "id": "b733d327-a574-4477-abdb-f0670d478575",
   "metadata": {
    "execution": {
     "iopub.execute_input": "2022-06-28T15:20:10.057719Z",
     "iopub.status.busy": "2022-06-28T15:20:10.057019Z",
     "iopub.status.idle": "2022-06-28T15:20:10.102032Z",
     "shell.execute_reply": "2022-06-28T15:20:10.100342Z",
     "shell.execute_reply.started": "2022-06-28T15:20:10.057663Z"
    },
    "tags": []
   },
   "outputs": [
    {
     "data": {
      "text/plain": [
       "{'corpus': 'MeMo corpus v. 0.5',\n",
       " 'match_position': 22977994.0,\n",
       " 'left context': 'Enten—Eller , enten Liv eller Død — saa levende var den almindelige Interesse for og Deltagelse i den dømte Forbryders',\n",
       " 'match': 'Skæbne',\n",
       " 'right_context': '. Pludselig gjorde Bødlen , søm hidtil havde staaet ubevægelig og med korslagte Arme , . en Bevægelse . Han',\n",
       " 'Kodning': 0.0,\n",
       " 'text_gender': nan,\n",
       " 'corpus_id': 'MEMO_ALL',\n",
       " 'text_nationality': nan,\n",
       " 'text_illustrations': 'n',\n",
       " 'text_subtitle': 'Original Roman fra Nutiden',\n",
       " 'text_publisher': 'Simonsen & Co.',\n",
       " 'text_id': '1880_RH_ArbejderBankierOgBaronEllerLykkensOmskiftelser',\n",
       " 'text_pseudonym': 'R.H.',\n",
       " 'text_pages': 750.0,\n",
       " 'text_source': 'KB',\n",
       " 'text_surname': nan,\n",
       " 'text_file_id': 130024104401.0,\n",
       " 'text_year': 1880.0,\n",
       " 'text_typeface': 'gothic',\n",
       " 'text_volume': nan,\n",
       " 'text_price': '5',\n",
       " 'text_title': 'Arbejder, Bankier og Baron eller Lykkens Omskiftelser',\n",
       " 'text_firstname': nan}"
      ]
     },
     "execution_count": 31,
     "metadata": {},
     "output_type": "execute_result"
    }
   ],
   "source": [
    "from pandas import read_csv\n",
    "import os\n",
    "import os.path\n",
    "\n",
    "data = []\n",
    "for filename in os.listdir(\"annotations\"):\n",
    "    path = os.path.join(\"annotations\", filename)\n",
    "    if path.endswith(\".csv\"):\n",
    "        df = read_csv(path, delimiter=\";\")\n",
    "        data += df[~df['match'].isnull()].to_dict(orient=\"records\")\n",
    "data[1]"
   ]
  },
  {
   "cell_type": "code",
   "execution_count": 35,
   "id": "2943c4cc-65a6-41ac-b7d8-80c1325d0a5f",
   "metadata": {
    "execution": {
     "iopub.execute_input": "2022-06-28T15:28:00.729875Z",
     "iopub.status.busy": "2022-06-28T15:28:00.729155Z",
     "iopub.status.idle": "2022-06-28T15:28:00.757338Z",
     "shell.execute_reply": "2022-06-28T15:28:00.756235Z",
     "shell.execute_reply.started": "2022-06-28T15:28:00.729814Z"
    },
    "tags": []
   },
   "outputs": [],
   "source": [
    "from xml.sax.saxutils import escape\n",
    "\n",
    "with open(\"wsd/test-da/test-da.data.xml\", \"w\", encoding=\"utf-8\") as f, open(\"wsd/test-da/test-da.gold.key.txt\", \"w\", encoding=\"utf-8\") as g:\n",
    "    print('<?xml version=\"1.0\" encoding=\"UTF-8\"?>', file=f)\n",
    "    print('<corpus lang=\"da\" name=\"test-da\" sources=\"wordnet-danish\">', file=f)\n",
    "    print('   <text id=\"d000\">', file=f)\n",
    "    for i, line in enumerate(data):\n",
    "        print('      <sentence id=\"d000.s{:03d}\" source=\"wordnet-danish\">'.format(i), file=f)\n",
    "        for token in line[\"left context\"].split():\n",
    "            print('         <wf lemma=\"\" pos=\"\">{}</wf>'.format(escape(token)), file=f)\n",
    "        print('         <instance id=\"d000.s{:03d}.t000\" lemma=\"\" pos=\"\">{}</instance>'.format(i, escape(line[\"match\"])), file=f)\n",
    "        print('d000.s{:03d}.t000 {}'.format(i, 'bn:00026603n' if int(line[\"Kodning\"]) == 0 else 'bn:00019222n'), file=g)\n",
    "        for token in line[\"right_context\"].split():\n",
    "            print('         <wf lemma=\"\" pos=\"\">{}</wf>'.format(escape(token)), file=f)\n",
    "        print('      </sentence>', file=f)\n",
    "    print('    </text>', file=f)\n",
    "    print('</corpus>', file=f)"
   ]
  },
  {
   "cell_type": "code",
   "execution_count": null,
   "id": "36f85aea-61ea-4bc6-886e-fe87a2d73019",
   "metadata": {},
   "outputs": [],
   "source": [
    "!PYTHONPATH=. python src/evaluation/evaluate_model.py --config /work/config_da.test.yaml --checkpoint_path pretrained_models/bert-base-multilingual-cased/model_state_best.th  --cpu"
   ]
  }
 ],
 "metadata": {
  "kernelspec": {
   "display_name": "Python 3 ",
   "language": "python",
   "name": "python3"
  },
  "language_info": {
   "codemirror_mode": {
    "name": "ipython",
    "version": 3
   },
   "file_extension": ".py",
   "mimetype": "text/x-python",
   "name": "python",
   "nbconvert_exporter": "python",
   "pygments_lexer": "ipython3",
   "version": "3.9.10"
  }
 },
 "nbformat": 4,
 "nbformat_minor": 5
}
